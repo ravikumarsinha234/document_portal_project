{
 "cells": [
  {
   "cell_type": "code",
   "execution_count": 1,
   "id": "a626f811",
   "metadata": {},
   "outputs": [
    {
     "name": "stdout",
     "output_type": "stream",
     "text": [
      "all ok\n"
     ]
    }
   ],
   "source": [
    "print('all ok')"
   ]
  },
  {
   "cell_type": "code",
   "execution_count": 2,
   "id": "79a31cfc",
   "metadata": {},
   "outputs": [],
   "source": [
    "import sys\n",
    "import traceback"
   ]
  },
  {
   "cell_type": "code",
   "execution_count": null,
   "id": "b6627bae",
   "metadata": {},
   "outputs": [],
   "source": [
    "class DocumentportalException(Exception):\n",
    "    \"\"\"Custome exception for Document Portal\"\"\"\n",
    "    def __init__(self,error_message:str,error_details:sys):\n",
    "        _,_,exc_tb = error_details.exc_info()\n",
    "        exc_tb.tb_frame.f_code.co_filename\n",
    "        self.file_name =exc_tb.tb_frame.f_code.co_filename\n",
    "        self.lineno = exc_tb.tb_lineno\n",
    "        self.error_message = str(error_message)\n",
    "        self.traceback_str = ''.join(traceback.format_exception(*error_details.exc_info()))\n",
    "    \n",
    "    def __str__(self):\n",
    "        return f\"\"\"\n",
    "        Error in [{self.file_name}] at line [{self.lineno}]: {self.error_message}\n",
    "        Traceback: {self.traceback_str}\n",
    "\"\"\"\n",
    "\n",
    "if __name__ == \"__main__\":\n",
    "    try:\n",
    "        #Simulate an error\n",
    "        a=1/0\n",
    "        print(a)\n",
    "    except Exception as e:\n",
    "        app_exc =  DocumentportalException(e,sys)\n",
    "        raise app_exc"
   ]
  }
 ],
 "metadata": {
  "kernelspec": {
   "display_name": "Python 3",
   "language": "python",
   "name": "python3"
  },
  "language_info": {
   "codemirror_mode": {
    "name": "ipython",
    "version": 3
   },
   "file_extension": ".py",
   "mimetype": "text/x-python",
   "name": "python",
   "nbconvert_exporter": "python",
   "pygments_lexer": "ipython3",
   "version": "3.10.18"
  }
 },
 "nbformat": 4,
 "nbformat_minor": 5
}
